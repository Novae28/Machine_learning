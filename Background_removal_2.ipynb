{
  "nbformat": 4,
  "nbformat_minor": 0,
  "metadata": {
    "colab": {
      "name": "Background removal 2.ipynb",
      "provenance": [],
      "collapsed_sections": [],
      "authorship_tag": "ABX9TyNBoRzsZmE9/Hypf9/fjCn3",
      "include_colab_link": true
    },
    "kernelspec": {
      "name": "python3",
      "display_name": "Python 3"
    },
    "language_info": {
      "name": "python"
    }
  },
  "cells": [
    {
      "cell_type": "markdown",
      "metadata": {
        "id": "view-in-github",
        "colab_type": "text"
      },
      "source": [
        "<a href=\"https://colab.research.google.com/github/Novae28/Machine_learning/blob/main/Background_removal_2.ipynb\" target=\"_parent\"><img src=\"https://colab.research.google.com/assets/colab-badge.svg\" alt=\"Open In Colab\"/></a>"
      ]
    },
    {
      "cell_type": "code",
      "metadata": {
        "id": "C6SQ4vyMyEta"
      },
      "source": [
        "from six.moves import urllib #to get the pretrained model from the internet"
      ],
      "execution_count": null,
      "outputs": []
    },
    {
      "cell_type": "code",
      "metadata": {
        "colab": {
          "base_uri": "https://localhost:8080/"
        },
        "id": "4KcSQUgIwXpC",
        "outputId": "cb3e1953-dfd3-4974-cdb6-eda6e8da6740"
      },
      "source": [
        "urllib.request.urlretrieve('https://github.com/ayoolaolafenwa/PixelLib/releases/download/1.1/deeplabv3_xception_tf_dim_ordering_tf_kernels.h5')"
      ],
      "execution_count": null,
      "outputs": [
        {
          "output_type": "execute_result",
          "data": {
            "text/plain": [
              "('/tmp/tmp8xygay2j', <http.client.HTTPMessage at 0x7f539a5de810>)"
            ]
          },
          "metadata": {
            "tags": []
          },
          "execution_count": 2
        }
      ]
    },
    {
      "cell_type": "code",
      "metadata": {
        "colab": {
          "base_uri": "https://localhost:8080/"
        },
        "id": "gKvLxIQPzoNr",
        "outputId": "1ecaa427-4920-491e-aadc-b1805352e25f"
      },
      "source": [
        "!pip install pixellib #using pixellib\n",
        "import pixellib\n",
        "from pixellib.tune_bg import alter_bg # importing alter_bg to change background of the image"
      ],
      "execution_count": null,
      "outputs": [
        {
          "output_type": "stream",
          "text": [
            "Collecting pixellib\n",
            "\u001b[?25l  Downloading https://files.pythonhosted.org/packages/ef/bd/ba542b52accfb773060a2f4dbefb8978b653719b5a872ebf4a02e51a83cb/pixellib-0.6.6-py3-none-any.whl (69kB)\n",
            "\r\u001b[K     |████▊                           | 10kB 14.4MB/s eta 0:00:01\r\u001b[K     |█████████▍                      | 20kB 20.5MB/s eta 0:00:01\r\u001b[K     |██████████████▏                 | 30kB 25.5MB/s eta 0:00:01\r\u001b[K     |██████████████████▉             | 40kB 28.1MB/s eta 0:00:01\r\u001b[K     |███████████████████████▌        | 51kB 23.4MB/s eta 0:00:01\r\u001b[K     |████████████████████████████▎   | 61kB 23.7MB/s eta 0:00:01\r\u001b[K     |████████████████████████████████| 71kB 7.2MB/s \n",
            "\u001b[?25hRequirement already satisfied: opencv-python in /usr/local/lib/python3.7/dist-packages (from pixellib) (4.1.2.30)\n",
            "Collecting imantics\n",
            "  Downloading https://files.pythonhosted.org/packages/1a/ff/8f92fa03b42f14860bc882d08187b359d3b8f9ef670d4efbed090d451c58/imantics-0.1.12.tar.gz\n",
            "Collecting labelme2coco\n",
            "  Downloading https://files.pythonhosted.org/packages/36/bf/a0ae23452fccb2215cecdff4df85fd29af4adfbd14e1bcb78379efedd968/labelme2coco-0.1.2-py3-none-any.whl\n",
            "Requirement already satisfied: imgaug in /usr/local/lib/python3.7/dist-packages (from pixellib) (0.2.9)\n",
            "Requirement already satisfied: matplotlib in /usr/local/lib/python3.7/dist-packages (from pixellib) (3.2.2)\n",
            "Requirement already satisfied: scikit-image in /usr/local/lib/python3.7/dist-packages (from pixellib) (0.16.2)\n",
            "Requirement already satisfied: pillow in /usr/local/lib/python3.7/dist-packages (from pixellib) (7.1.2)\n",
            "Requirement already satisfied: numpy>=1.14.5 in /usr/local/lib/python3.7/dist-packages (from opencv-python->pixellib) (1.19.5)\n",
            "Requirement already satisfied: lxml in /usr/local/lib/python3.7/dist-packages (from imantics->pixellib) (4.2.6)\n",
            "Collecting xmljson\n",
            "  Downloading https://files.pythonhosted.org/packages/91/2d/7191efe15406b8b99e2b5905ca676a8a3dc2936416ade7ed17752902c250/xmljson-0.2.1-py2.py3-none-any.whl\n",
            "Requirement already satisfied: jsonschema>=2.6.0 in /usr/local/lib/python3.7/dist-packages (from labelme2coco->pixellib) (2.6.0)\n",
            "Requirement already satisfied: Shapely in /usr/local/lib/python3.7/dist-packages (from imgaug->pixellib) (1.7.1)\n",
            "Requirement already satisfied: six in /usr/local/lib/python3.7/dist-packages (from imgaug->pixellib) (1.15.0)\n",
            "Requirement already satisfied: scipy in /usr/local/lib/python3.7/dist-packages (from imgaug->pixellib) (1.4.1)\n",
            "Requirement already satisfied: imageio in /usr/local/lib/python3.7/dist-packages (from imgaug->pixellib) (2.4.1)\n",
            "Requirement already satisfied: kiwisolver>=1.0.1 in /usr/local/lib/python3.7/dist-packages (from matplotlib->pixellib) (1.3.1)\n",
            "Requirement already satisfied: python-dateutil>=2.1 in /usr/local/lib/python3.7/dist-packages (from matplotlib->pixellib) (2.8.1)\n",
            "Requirement already satisfied: cycler>=0.10 in /usr/local/lib/python3.7/dist-packages (from matplotlib->pixellib) (0.10.0)\n",
            "Requirement already satisfied: pyparsing!=2.0.4,!=2.1.2,!=2.1.6,>=2.0.1 in /usr/local/lib/python3.7/dist-packages (from matplotlib->pixellib) (2.4.7)\n",
            "Requirement already satisfied: networkx>=2.0 in /usr/local/lib/python3.7/dist-packages (from scikit-image->pixellib) (2.5.1)\n",
            "Requirement already satisfied: PyWavelets>=0.4.0 in /usr/local/lib/python3.7/dist-packages (from scikit-image->pixellib) (1.1.1)\n",
            "Requirement already satisfied: decorator<5,>=4.3 in /usr/local/lib/python3.7/dist-packages (from networkx>=2.0->scikit-image->pixellib) (4.4.2)\n",
            "Building wheels for collected packages: imantics\n",
            "  Building wheel for imantics (setup.py) ... \u001b[?25l\u001b[?25hdone\n",
            "  Created wheel for imantics: filename=imantics-0.1.12-cp37-none-any.whl size=16033 sha256=0e01d8af7e1c2c95b49abe2cbfca2ebdec7568de352710f04398313f99cdc3a4\n",
            "  Stored in directory: /root/.cache/pip/wheels/73/93/1c/9e2fc52eb74441941bc76cac441ddcc2c7ad67b18e1849e62a\n",
            "Successfully built imantics\n",
            "Installing collected packages: xmljson, imantics, labelme2coco, pixellib\n",
            "Successfully installed imantics-0.1.12 labelme2coco-0.1.2 pixellib-0.6.6 xmljson-0.2.1\n"
          ],
          "name": "stdout"
        }
      ]
    },
    {
      "cell_type": "code",
      "metadata": {
        "colab": {
          "base_uri": "https://localhost:8080/"
        },
        "id": "aVgx31RJz4ML",
        "outputId": "3d35479b-37f4-4140-a711-6a68c0691057"
      },
      "source": [
        "change_bg = alter_bg()\n",
        "change_bg.load_pascalvoc_model(\"/tmp/tmp8xygay2j\") # loaded the deeplabv3+ model trained on pascal voc dataset\n",
        "change_bg.color_bg(\"/view3.jpeg\", colors = (0,128,0), output_image_name=\"/colored_bg.jpg\") # img-sourse, color of the background, and output image name"
      ],
      "execution_count": null,
      "outputs": [
        {
          "output_type": "execute_result",
          "data": {
            "text/plain": [
              "array([[[  0, 128,   0],\n",
              "        [  0, 128,   0],\n",
              "        [  0, 128,   0],\n",
              "        ...,\n",
              "        [  0, 128,   0],\n",
              "        [  0, 128,   0],\n",
              "        [  0, 128,   0]],\n",
              "\n",
              "       [[  0, 128,   0],\n",
              "        [  0, 128,   0],\n",
              "        [  0, 128,   0],\n",
              "        ...,\n",
              "        [  0, 128,   0],\n",
              "        [  0, 128,   0],\n",
              "        [  0, 128,   0]],\n",
              "\n",
              "       [[  0, 128,   0],\n",
              "        [  0, 128,   0],\n",
              "        [  0, 128,   0],\n",
              "        ...,\n",
              "        [  0, 128,   0],\n",
              "        [  0, 128,   0],\n",
              "        [  0, 128,   0]],\n",
              "\n",
              "       ...,\n",
              "\n",
              "       [[  0, 128,   0],\n",
              "        [  0, 128,   0],\n",
              "        [  0, 128,   0],\n",
              "        ...,\n",
              "        [  0, 128,   0],\n",
              "        [  0, 128,   0],\n",
              "        [  0, 128,   0]],\n",
              "\n",
              "       [[  0, 128,   0],\n",
              "        [  0, 128,   0],\n",
              "        [  0, 128,   0],\n",
              "        ...,\n",
              "        [  0, 128,   0],\n",
              "        [  0, 128,   0],\n",
              "        [  0, 128,   0]],\n",
              "\n",
              "       [[  0, 128,   0],\n",
              "        [  0, 128,   0],\n",
              "        [  0, 128,   0],\n",
              "        ...,\n",
              "        [  0, 128,   0],\n",
              "        [  0, 128,   0],\n",
              "        [  0, 128,   0]]], dtype=uint8)"
            ]
          },
          "metadata": {
            "tags": []
          },
          "execution_count": 6
        }
      ]
    },
    {
      "cell_type": "code",
      "metadata": {
        "colab": {
          "base_uri": "https://localhost:8080/"
        },
        "id": "gxMtWoRO1SpB",
        "outputId": "49c9090a-c732-4664-d32e-b187957ab764"
      },
      "source": [
        "change_bg.color_bg(\"/view3.jpeg\", colors = (255,255,255), output_image_name=\"/colored_bg4.jpg\")"
      ],
      "execution_count": null,
      "outputs": [
        {
          "output_type": "execute_result",
          "data": {
            "text/plain": [
              "array([[[255, 255, 255],\n",
              "        [255, 255, 255],\n",
              "        [255, 255, 255],\n",
              "        ...,\n",
              "        [255, 255, 255],\n",
              "        [255, 255, 255],\n",
              "        [255, 255, 255]],\n",
              "\n",
              "       [[255, 255, 255],\n",
              "        [255, 255, 255],\n",
              "        [255, 255, 255],\n",
              "        ...,\n",
              "        [255, 255, 255],\n",
              "        [255, 255, 255],\n",
              "        [255, 255, 255]],\n",
              "\n",
              "       [[255, 255, 255],\n",
              "        [255, 255, 255],\n",
              "        [255, 255, 255],\n",
              "        ...,\n",
              "        [255, 255, 255],\n",
              "        [255, 255, 255],\n",
              "        [255, 255, 255]],\n",
              "\n",
              "       ...,\n",
              "\n",
              "       [[255, 255, 255],\n",
              "        [255, 255, 255],\n",
              "        [255, 255, 255],\n",
              "        ...,\n",
              "        [255, 255, 255],\n",
              "        [255, 255, 255],\n",
              "        [255, 255, 255]],\n",
              "\n",
              "       [[255, 255, 255],\n",
              "        [255, 255, 255],\n",
              "        [255, 255, 255],\n",
              "        ...,\n",
              "        [255, 255, 255],\n",
              "        [255, 255, 255],\n",
              "        [255, 255, 255]],\n",
              "\n",
              "       [[255, 255, 255],\n",
              "        [255, 255, 255],\n",
              "        [255, 255, 255],\n",
              "        ...,\n",
              "        [255, 255, 255],\n",
              "        [255, 255, 255],\n",
              "        [255, 255, 255]]], dtype=uint8)"
            ]
          },
          "metadata": {
            "tags": []
          },
          "execution_count": 15
        }
      ]
    },
    {
      "cell_type": "code",
      "metadata": {
        "colab": {
          "base_uri": "https://localhost:8080/",
          "height": 265
        },
        "id": "AlXraqvI04g5",
        "outputId": "65de8a6d-18c6-4091-beb3-3b85ef6f5a84"
      },
      "source": [
        "from PIL import Image\n",
        "import matplotlib.pyplot as plt\n",
        "plt.axis('off')\n",
        "plt.imshow(Image.open(\"/colored_bg4.jpg\"))"
      ],
      "execution_count": null,
      "outputs": [
        {
          "output_type": "execute_result",
          "data": {
            "text/plain": [
              "<matplotlib.image.AxesImage at 0x7f53434628d0>"
            ]
          },
          "metadata": {
            "tags": []
          },
          "execution_count": 16
        },
        {
          "output_type": "display_data",
          "data": {
            "image/png": "[encoded data removed]",
            "text/plain": [
              "<Figure size 432x288 with 1 Axes>"
            ]
          },
          "metadata": {
            "tags": [],
            "needs_background": "light"
          }
        }
      ]
    }
  ]
}