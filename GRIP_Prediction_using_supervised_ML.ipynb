{
  "nbformat": 4,
  "nbformat_minor": 0,
  "metadata": {
    "colab": {
      "name": "GRIP-Prediction using supervised ML.ipynb",
      "provenance": [],
      "collapsed_sections": [],
      "authorship_tag": "ABX9TyN0vT0SIPtv8/kHYJdDXyMe",
      "include_colab_link": true
    },
    "kernelspec": {
      "name": "python3",
      "display_name": "Python 3"
    },
    "language_info": {
      "name": "python"
    }
  },
  "cells": [
    {
      "cell_type": "markdown",
      "metadata": {
        "id": "view-in-github",
        "colab_type": "text"
      },
      "source": [
        "<a href=\"https://colab.research.google.com/github/Novae28/Machine_learning/blob/main/GRIP_Prediction_using_supervised_ML.ipynb\" target=\"_parent\"><img src=\"https://colab.research.google.com/assets/colab-badge.svg\" alt=\"Open In Colab\"/></a>"
      ]
    },
    {
      "cell_type": "markdown",
      "metadata": {
        "id": "JFyZgX269RZZ"
      },
      "source": [
        "# Task #1: Predict the percentage of an student based on the no. of study hours."
      ]
    },
    {
      "cell_type": "markdown",
      "metadata": {
        "id": "aD5KuSj19FsR"
      },
      "source": [
        "Importing the libraries"
      ]
    },
    {
      "cell_type": "code",
      "metadata": {
        "id": "pKMUDy318hfH"
      },
      "source": [
        "import numpy as np\n",
        "import pandas as pd\n",
        "import matplotlib.pyplot as plt"
      ],
      "execution_count": null,
      "outputs": []
    },
    {
      "cell_type": "markdown",
      "metadata": {
        "id": "t26VMhFJ9e8k"
      },
      "source": [
        "Reading the given data set with pandas"
      ]
    },
    {
      "cell_type": "code",
      "metadata": {
        "id": "h2LHlvlx9iuc",
        "colab": {
          "base_uri": "https://localhost:8080/",
          "height": 203
        },
        "outputId": "b949c7a7-d0da-42a4-a153-10ffa03c51c8"
      },
      "source": [
        "stud_data=pd.read_csv(\"https://raw.githubusercontent.com/AdiPersonalWorks/Random/master/student_scores%20-%20student_scores.csv\")\n",
        "stud_data.head()"
      ],
      "execution_count": null,
      "outputs": [
        {
          "output_type": "execute_result",
          "data": {
            "text/html": [
              "<div>\n",
              "<style scoped>\n",
              "    .dataframe tbody tr th:only-of-type {\n",
              "        vertical-align: middle;\n",
              "    }\n",
              "\n",
              "    .dataframe tbody tr th {\n",
              "        vertical-align: top;\n",
              "    }\n",
              "\n",
              "    .dataframe thead th {\n",
              "        text-align: right;\n",
              "    }\n",
              "</style>\n",
              "<table border=\"1\" class=\"dataframe\">\n",
              "  <thead>\n",
              "    <tr style=\"text-align: right;\">\n",
              "      <th></th>\n",
              "      <th>Hours</th>\n",
              "      <th>Scores</th>\n",
              "    </tr>\n",
              "  </thead>\n",
              "  <tbody>\n",
              "    <tr>\n",
              "      <th>0</th>\n",
              "      <td>2.5</td>\n",
              "      <td>21</td>\n",
              "    </tr>\n",
              "    <tr>\n",
              "      <th>1</th>\n",
              "      <td>5.1</td>\n",
              "      <td>47</td>\n",
              "    </tr>\n",
              "    <tr>\n",
              "      <th>2</th>\n",
              "      <td>3.2</td>\n",
              "      <td>27</td>\n",
              "    </tr>\n",
              "    <tr>\n",
              "      <th>3</th>\n",
              "      <td>8.5</td>\n",
              "      <td>75</td>\n",
              "    </tr>\n",
              "    <tr>\n",
              "      <th>4</th>\n",
              "      <td>3.5</td>\n",
              "      <td>30</td>\n",
              "    </tr>\n",
              "  </tbody>\n",
              "</table>\n",
              "</div>"
            ],
            "text/plain": [
              "   Hours  Scores\n",
              "0    2.5      21\n",
              "1    5.1      47\n",
              "2    3.2      27\n",
              "3    8.5      75\n",
              "4    3.5      30"
            ]
          },
          "metadata": {
            "tags": []
          },
          "execution_count": 2
        }
      ]
    },
    {
      "cell_type": "markdown",
      "metadata": {
        "id": "LS8IzGp8-arD"
      },
      "source": [
        "Initial impressions of the data"
      ]
    },
    {
      "cell_type": "code",
      "metadata": {
        "colab": {
          "base_uri": "https://localhost:8080/"
        },
        "id": "2lryGpl5-KqC",
        "outputId": "b987cd32-d37b-47e9-f603-7e8c92c77cfe"
      },
      "source": [
        "stud_data.shape #returns a tuple which denotes number of rows and number of columns"
      ],
      "execution_count": null,
      "outputs": [
        {
          "output_type": "execute_result",
          "data": {
            "text/plain": [
              "(25, 2)"
            ]
          },
          "metadata": {
            "tags": []
          },
          "execution_count": 3
        }
      ]
    },
    {
      "cell_type": "code",
      "metadata": {
        "colab": {
          "base_uri": "https://localhost:8080/"
        },
        "id": "JavgqAi9AH7Q",
        "outputId": "81ebf7cf-928a-45c1-8779-3fea8fb2ed12"
      },
      "source": [
        "stud_data.dtypes #tells what are the data types of the values in each column"
      ],
      "execution_count": null,
      "outputs": [
        {
          "output_type": "execute_result",
          "data": {
            "text/plain": [
              "Hours     float64\n",
              "Scores      int64\n",
              "dtype: object"
            ]
          },
          "metadata": {
            "tags": []
          },
          "execution_count": 8
        }
      ]
    },
    {
      "cell_type": "code",
      "metadata": {
        "colab": {
          "base_uri": "https://localhost:8080/",
          "height": 295
        },
        "id": "0eAqi-je-8o-",
        "outputId": "4ea14b99-6c87-4a73-c087-cd44ecefad12"
      },
      "source": [
        "stud_data.describe() #shows the mathematical sumummary of the data"
      ],
      "execution_count": null,
      "outputs": [
        {
          "output_type": "execute_result",
          "data": {
            "text/html": [
              "<div>\n",
              "<style scoped>\n",
              "    .dataframe tbody tr th:only-of-type {\n",
              "        vertical-align: middle;\n",
              "    }\n",
              "\n",
              "    .dataframe tbody tr th {\n",
              "        vertical-align: top;\n",
              "    }\n",
              "\n",
              "    .dataframe thead th {\n",
              "        text-align: right;\n",
              "    }\n",
              "</style>\n",
              "<table border=\"1\" class=\"dataframe\">\n",
              "  <thead>\n",
              "    <tr style=\"text-align: right;\">\n",
              "      <th></th>\n",
              "      <th>Hours</th>\n",
              "      <th>Scores</th>\n",
              "    </tr>\n",
              "  </thead>\n",
              "  <tbody>\n",
              "    <tr>\n",
              "      <th>count</th>\n",
              "      <td>25.000000</td>\n",
              "      <td>25.000000</td>\n",
              "    </tr>\n",
              "    <tr>\n",
              "      <th>mean</th>\n",
              "      <td>5.012000</td>\n",
              "      <td>51.480000</td>\n",
              "    </tr>\n",
              "    <tr>\n",
              "      <th>std</th>\n",
              "      <td>2.525094</td>\n",
              "      <td>25.286887</td>\n",
              "    </tr>\n",
              "    <tr>\n",
              "      <th>min</th>\n",
              "      <td>1.100000</td>\n",
              "      <td>17.000000</td>\n",
              "    </tr>\n",
              "    <tr>\n",
              "      <th>25%</th>\n",
              "      <td>2.700000</td>\n",
              "      <td>30.000000</td>\n",
              "    </tr>\n",
              "    <tr>\n",
              "      <th>50%</th>\n",
              "      <td>4.800000</td>\n",
              "      <td>47.000000</td>\n",
              "    </tr>\n",
              "    <tr>\n",
              "      <th>75%</th>\n",
              "      <td>7.400000</td>\n",
              "      <td>75.000000</td>\n",
              "    </tr>\n",
              "    <tr>\n",
              "      <th>max</th>\n",
              "      <td>9.200000</td>\n",
              "      <td>95.000000</td>\n",
              "    </tr>\n",
              "  </tbody>\n",
              "</table>\n",
              "</div>"
            ],
            "text/plain": [
              "           Hours     Scores\n",
              "count  25.000000  25.000000\n",
              "mean    5.012000  51.480000\n",
              "std     2.525094  25.286887\n",
              "min     1.100000  17.000000\n",
              "25%     2.700000  30.000000\n",
              "50%     4.800000  47.000000\n",
              "75%     7.400000  75.000000\n",
              "max     9.200000  95.000000"
            ]
          },
          "metadata": {
            "tags": []
          },
          "execution_count": 9
        }
      ]
    },
    {
      "cell_type": "code",
      "metadata": {
        "colab": {
          "base_uri": "https://localhost:8080/"
        },
        "id": "foXrRvUu_PMR",
        "outputId": "0dfc98a7-6275-4485-e5e2-84a34a757fdf"
      },
      "source": [
        "stud_data.info() #shows the summary of the data, including number of not null values"
      ],
      "execution_count": null,
      "outputs": [
        {
          "output_type": "stream",
          "text": [
            "<class 'pandas.core.frame.DataFrame'>\n",
            "RangeIndex: 25 entries, 0 to 24\n",
            "Data columns (total 2 columns):\n",
            " #   Column  Non-Null Count  Dtype  \n",
            "---  ------  --------------  -----  \n",
            " 0   Hours   25 non-null     float64\n",
            " 1   Scores  25 non-null     int64  \n",
            "dtypes: float64(1), int64(1)\n",
            "memory usage: 528.0 bytes\n"
          ],
          "name": "stdout"
        }
      ]
    },
    {
      "cell_type": "code",
      "metadata": {
        "colab": {
          "base_uri": "https://localhost:8080/",
          "height": 391
        },
        "id": "JzEPZSVJA4S7",
        "outputId": "28b77a51-6503-4bf3-ed50-083672a3ffd1"
      },
      "source": [
        "import seaborn as sns\n",
        "sns.pairplot(stud_data)"
      ],
      "execution_count": null,
      "outputs": [
        {
          "output_type": "execute_result",
          "data": {
            "text/plain": [
              "<seaborn.axisgrid.PairGrid at 0x7f5092f19290>"
            ]
          },
          "metadata": {
            "tags": []
          },
          "execution_count": 16
        },
        {
          "output_type": "display_data",
          "data": {
            "image/png": "[encoded data removed]",
            "text/plain": [
              "<Figure size 360x360 with 6 Axes>"
            ]
          },
          "metadata": {
            "tags": [],
            "needs_background": "light"
          }
        }
      ]
    },
    {
      "cell_type": "markdown",
      "metadata": {
        "id": "NdMCEAT0zooU"
      },
      "source": [
        "From the plot above, we can easily interpret that the given data follows a linear trend."
      ]
    },
    {
      "cell_type": "markdown",
      "metadata": {
        "id": "Bn1qNQYIzZ6r"
      },
      "source": [
        "Getting the data ready for the regression model"
      ]
    },
    {
      "cell_type": "code",
      "metadata": {
        "id": "9aWEb-64A9hi"
      },
      "source": [
        "#importing important libraries\n",
        "#here we are going to use linear regression along with Lasso regression\n",
        "from sklearn.linear_model import LinearRegression, Lasso\n",
        "from sklearn.metrics import r2_score #to evaluate the model\n",
        "from sklearn.metrics import mean_absolute_error \n",
        "from sklearn.model_selection import train_test_split"
      ],
      "execution_count": null,
      "outputs": []
    },
    {
      "cell_type": "code",
      "metadata": {
        "id": "2433u_o2zZTH"
      },
      "source": [
        "X=stud_data.iloc[:,:-1].values #assigns all the columns except the last one\n",
        "y=stud_data.iloc[:,-1].values # assigns the last column (Score column)"
      ],
      "execution_count": null,
      "outputs": []
    },
    {
      "cell_type": "code",
      "metadata": {
        "id": "J7bAVoVnzPxU"
      },
      "source": [
        "#splitting the data into training and testing sets\n",
        "X_train,X_test,y_train,y_test=train_test_split(X,y,test_size=0.3,random_state=43)"
      ],
      "execution_count": null,
      "outputs": []
    },
    {
      "cell_type": "markdown",
      "metadata": {
        "id": "aDGsBj3B1Gfl"
      },
      "source": [
        "Trying out simple linear regression"
      ]
    },
    {
      "cell_type": "code",
      "metadata": {
        "id": "mUT4XxQX1CCu"
      },
      "source": [
        "lr=LinearRegression()\n",
        "lr.fit(X_train,y_train)\n",
        "y_pred=lr.predict(X_test)"
      ],
      "execution_count": null,
      "outputs": []
    },
    {
      "cell_type": "code",
      "metadata": {
        "colab": {
          "base_uri": "https://localhost:8080/",
          "height": 279
        },
        "id": "JO8rmF3U3Hvr",
        "outputId": "564eebd2-e56d-4184-8780-c2d8e57941ae"
      },
      "source": [
        "#plotting the regression line\n",
        "line = lr.coef_*X+lr.intercept_\n",
        "plt.scatter(X, y)\n",
        "plt.plot(X, line,color = 'red');\n",
        "plt.xlabel(\"Time(in hours)\")\n",
        "plt.ylabel(\"Test Scores\")\n",
        "plt.show() "
      ],
      "execution_count": null,
      "outputs": [
        {
          "output_type": "display_data",
          "data": {
            "image/png": "[encoded data removed]",
            "text/plain": [
              "<Figure size 432x288 with 1 Axes>"
            ]
          },
          "metadata": {
            "tags": [],
            "needs_background": "light"
          }
        }
      ]
    },
    {
      "cell_type": "code",
      "metadata": {
        "colab": {
          "base_uri": "https://localhost:8080/",
          "height": 295
        },
        "id": "TgNhlthn9QeM",
        "outputId": "a8ca6530-80ca-4b95-de88-92a4f52afa64"
      },
      "source": [
        "plt.scatter(X_test, y_test, color = 'red')\n",
        "plt.plot(X_test, lr.predict(X_test), color = 'black')\n",
        "plt.title('Hours vs. Percentage (Test set)')\n",
        "plt.xlabel('Hours studied')\n",
        "plt.ylabel('Percentage of marks')\n",
        "plt.show()"
      ],
      "execution_count": null,
      "outputs": [
        {
          "output_type": "display_data",
          "data": {
            "image/png": "[encoded data removed]",
            "text/plain": [
              "<Figure size 432x288 with 1 Axes>"
            ]
          },
          "metadata": {
            "tags": [],
            "needs_background": "light"
          }
        }
      ]
    },
    {
      "cell_type": "markdown",
      "metadata": {
        "id": "Uy-XRb9F9m2-"
      },
      "source": [
        "Error Metrics"
      ]
    },
    {
      "cell_type": "code",
      "metadata": {
        "colab": {
          "base_uri": "https://localhost:8080/"
        },
        "id": "b9kvUTWh3zGE",
        "outputId": "134111b7-7553-4b86-cd2f-b460cfea76ea"
      },
      "source": [
        "#finding the r2 score of the model\n",
        "score = r2_score(y_test, y_pred)\n",
        "print(score) \n",
        "mean_abs_err=mean_absolute_error(y_test, y_pred)\n",
        "print('Mean Absolute Error:',mean_abs_err)"
      ],
      "execution_count": null,
      "outputs": [
        {
          "output_type": "stream",
          "text": [
            "0.9393343640876535\n",
            "Mean Absolute Error: 5.521431556691904\n"
          ],
          "name": "stdout"
        }
      ]
    },
    {
      "cell_type": "markdown",
      "metadata": {
        "id": "ujuA5McJ4MOv"
      },
      "source": [
        "Our vanilla linear regression model did a great job!"
      ]
    },
    {
      "cell_type": "markdown",
      "metadata": {
        "id": "ymL9bMEt4gLz"
      },
      "source": [
        "Trying the lasso regression"
      ]
    },
    {
      "cell_type": "code",
      "metadata": {
        "colab": {
          "base_uri": "https://localhost:8080/"
        },
        "id": "rwZ-OjS64DfT",
        "outputId": "c7398a3c-d0c5-4a38-86cc-e2e72efba070"
      },
      "source": [
        "#lasso regression has a parameter alpha which balances the amount of \n",
        "#emphasis given to minimizing RSS vs minimizing sum of square of coefficients\n",
        "#alpha=0 gives the same results as vanilla linear regression\n",
        "alphas = np.geomspace(1e-9, 1e0, num=10) #alpha values to find the best fit\n",
        "\n",
        "for alpha in alphas:\n",
        "  ls=Lasso(alpha,max_iter=10000)\n",
        "  ls.fit(X_train,y_train)\n",
        "  y_pred1=ls.predict(X_test)\n",
        "  score = r2_score(y_test, y_pred1)\n",
        "  print(alpha,score)"
      ],
      "execution_count": null,
      "outputs": [
        {
          "output_type": "stream",
          "text": [
            "1e-09 0.939334364081249\n",
            "1e-08 0.9393343640236099\n",
            "1e-07 0.9393343634472183\n",
            "1e-06 0.9393343576833019\n",
            "1e-05 0.9393343000440549\n",
            "0.0001 0.9393337236434067\n",
            "0.001 0.9393279588189589\n",
            "0.01 0.9392702287780307\n",
            "0.1 0.9386847487236656\n",
            "1.0 0.93201198367186\n"
          ],
          "name": "stdout"
        }
      ]
    },
    {
      "cell_type": "markdown",
      "metadata": {
        "id": "z4d2FMBf_ejz"
      },
      "source": [
        "Comparing the actual values with predicted data from linear regression and lasso regression"
      ]
    },
    {
      "cell_type": "code",
      "metadata": {
        "colab": {
          "base_uri": "https://localhost:8080/",
          "height": 295
        },
        "id": "c9FFPNZ__xJq",
        "outputId": "427f080b-82d7-4a8a-f4d0-1bb6069fc887"
      },
      "source": [
        "#taking the best Lasso model\n",
        "ls=Lasso(1e-9,max_iter=10000)\n",
        "ls.fit(X_train,y_train)\n",
        "y_pred1=ls.predict(X_test)\n",
        "\n",
        "#making a comparison table\n",
        "dataset = pd.DataFrame({'Actual': y_test, 'LinearReg': y_pred,'Lasso':y_pred1})  \n",
        "dataset"
      ],
      "execution_count": null,
      "outputs": [
        {
          "output_type": "execute_result",
          "data": {
            "text/html": [
              "<div>\n",
              "<style scoped>\n",
              "    .dataframe tbody tr th:only-of-type {\n",
              "        vertical-align: middle;\n",
              "    }\n",
              "\n",
              "    .dataframe tbody tr th {\n",
              "        vertical-align: top;\n",
              "    }\n",
              "\n",
              "    .dataframe thead th {\n",
              "        text-align: right;\n",
              "    }\n",
              "</style>\n",
              "<table border=\"1\" class=\"dataframe\">\n",
              "  <thead>\n",
              "    <tr style=\"text-align: right;\">\n",
              "      <th></th>\n",
              "      <th>Actual</th>\n",
              "      <th>LinearReg</th>\n",
              "      <th>Lasso</th>\n",
              "    </tr>\n",
              "  </thead>\n",
              "  <tbody>\n",
              "    <tr>\n",
              "      <th>0</th>\n",
              "      <td>88</td>\n",
              "      <td>89.639943</td>\n",
              "      <td>89.639943</td>\n",
              "    </tr>\n",
              "    <tr>\n",
              "      <th>1</th>\n",
              "      <td>85</td>\n",
              "      <td>75.516996</td>\n",
              "      <td>75.516996</td>\n",
              "    </tr>\n",
              "    <tr>\n",
              "      <th>2</th>\n",
              "      <td>20</td>\n",
              "      <td>17.142148</td>\n",
              "      <td>17.142148</td>\n",
              "    </tr>\n",
              "    <tr>\n",
              "      <th>3</th>\n",
              "      <td>42</td>\n",
              "      <td>34.089684</td>\n",
              "      <td>34.089684</td>\n",
              "    </tr>\n",
              "    <tr>\n",
              "      <th>4</th>\n",
              "      <td>86</td>\n",
              "      <td>76.458526</td>\n",
              "      <td>76.458526</td>\n",
              "    </tr>\n",
              "    <tr>\n",
              "      <th>5</th>\n",
              "      <td>95</td>\n",
              "      <td>86.815354</td>\n",
              "      <td>86.815354</td>\n",
              "    </tr>\n",
              "    <tr>\n",
              "      <th>6</th>\n",
              "      <td>81</td>\n",
              "      <td>81.166175</td>\n",
              "      <td>81.166175</td>\n",
              "    </tr>\n",
              "    <tr>\n",
              "      <th>7</th>\n",
              "      <td>41</td>\n",
              "      <td>45.388042</td>\n",
              "      <td>45.388042</td>\n",
              "    </tr>\n",
              "  </tbody>\n",
              "</table>\n",
              "</div>"
            ],
            "text/plain": [
              "   Actual  LinearReg      Lasso\n",
              "0      88  89.639943  89.639943\n",
              "1      85  75.516996  75.516996\n",
              "2      20  17.142148  17.142148\n",
              "3      42  34.089684  34.089684\n",
              "4      86  76.458526  76.458526\n",
              "5      95  86.815354  86.815354\n",
              "6      81  81.166175  81.166175\n",
              "7      41  45.388042  45.388042"
            ]
          },
          "metadata": {
            "tags": []
          },
          "execution_count": 28
        }
      ]
    },
    {
      "cell_type": "markdown",
      "metadata": {
        "id": "v9hdjzJSBrPh"
      },
      "source": [
        "What will be predicted score if a student studies for 9.25 hrs/ day?"
      ]
    },
    {
      "cell_type": "code",
      "metadata": {
        "colab": {
          "base_uri": "https://localhost:8080/"
        },
        "id": "CCqoL9anBAxL",
        "outputId": "e56e7e56-1a9e-4393-8bcc-c0ca11118873"
      },
      "source": [
        "#for linear regression\n",
        "testQ = np.array(9.25)\n",
        "testQ = testQ.reshape(-1, 1)\n",
        "pred = lr.predict(testQ)\n",
        "print(\"The score predicted for 9.25 hours of studies is \",pred)"
      ],
      "execution_count": null,
      "outputs": [
        {
          "output_type": "stream",
          "text": [
            "The score predicted for 9.25 hours of studies is  [90.1107082]\n"
          ],
          "name": "stdout"
        }
      ]
    },
    {
      "cell_type": "code",
      "metadata": {
        "colab": {
          "base_uri": "https://localhost:8080/"
        },
        "id": "zXb_u_pJB88n",
        "outputId": "09d7a09e-0cda-4e52-f4a0-36e1ddf34794"
      },
      "source": [
        "#for lasso regression\n",
        "pred = ls.predict(testQ)\n",
        "print(\"The score predicted for 9.25 hours of studies is \",pred)"
      ],
      "execution_count": null,
      "outputs": [
        {
          "output_type": "stream",
          "text": [
            "The score predicted for 9.25 hours of studies is  [88.95232652]\n"
          ],
          "name": "stdout"
        }
      ]
    }
  ]
}
